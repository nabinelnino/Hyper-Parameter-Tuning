{
 "cells": [
  {
   "cell_type": "markdown",
   "id": "4e60133a",
   "metadata": {},
   "source": [
    "#  Hyperparameter tuning, transfer learning, and fine-tuning\n"
   ]
  },
  {
   "cell_type": "code",
   "execution_count": 67,
   "id": "fb8b5854",
   "metadata": {},
   "outputs": [],
   "source": [
    "import tensorflow as tf\n",
    "from tensorflow import keras"
   ]
  },
  {
   "cell_type": "code",
   "execution_count": 70,
   "id": "c4399b23",
   "metadata": {},
   "outputs": [
    {
     "name": "stdout",
     "output_type": "stream",
     "text": [
      "Downloading data from https://storage.googleapis.com/tensorflow/tf-keras-datasets/train-labels-idx1-ubyte.gz\n",
      "32768/29515 [=================================] - 0s 0us/step\n",
      "Downloading data from https://storage.googleapis.com/tensorflow/tf-keras-datasets/train-images-idx3-ubyte.gz\n",
      "26427392/26421880 [==============================] - 1s 0us/step\n",
      "Downloading data from https://storage.googleapis.com/tensorflow/tf-keras-datasets/t10k-labels-idx1-ubyte.gz\n",
      "8192/5148 [===============================================] - 0s 0us/step\n",
      "Downloading data from https://storage.googleapis.com/tensorflow/tf-keras-datasets/t10k-images-idx3-ubyte.gz\n",
      "4423680/4422102 [==============================] - 0s 0us/step\n"
     ]
    }
   ],
   "source": [
    "#pip install -q -U keras-tuner\n",
    "import keras_tuner as kt\n",
    "(img_train, label_train), (img_test, label_test) = keras.datasets.fashion_mnist.load_data()"
   ]
  },
  {
   "cell_type": "code",
   "execution_count": 71,
   "id": "78fdc544",
   "metadata": {},
   "outputs": [],
   "source": [
    "# Normalize pixel values between 0 and 1\n",
    "img_train = img_train.astype('float32') / 255.0\n",
    "img_test = img_test.astype('float32') / 255.0"
   ]
  },
  {
   "cell_type": "code",
   "execution_count": 72,
   "id": "776d99ff",
   "metadata": {},
   "outputs": [],
   "source": [
    "def model_builder(hp):\n",
    "  model = keras.Sequential()\n",
    "  model.add(keras.layers.Flatten(input_shape=(28, 28)))\n",
    "\n",
    "  # Tune the number of units in the first Dense layer\n",
    "  # Choose an optimal value between 32-512\n",
    "  num_hidden_layers = hp.Choice('num_hidden_layer', values=[1,2,3])\n",
    "  dropout_rate = hp.Float('dropout_rate',min_value = 0.1,max_value= 0.5)\n",
    "\n",
    "  hp_units = hp.Int('units', min_value=32, max_value=512, step=32)\n",
    "  for _ in range(0,num_hidden_layers):\n",
    "    model.add(keras.layers.Dense(hp_units,activation = 'relu'))\n",
    "    model.add(keras.layers.Dropout(dropout_rate))\n",
    "    \n",
    "\n",
    "  model.add(keras.layers.Dense(units=hp_units, activation='relu'))\n",
    "  model.add(keras.layers.Dense(10))\n",
    "\n",
    "  # Tune the learning rate for the optimizer\n",
    "  # Choose an optimal value from 0.01, 0.001, or 0.0001\n",
    "  hp_learning_rate = hp.Choice('learning_rate', values=[1e-2, 1e-3, 1e-4])\n",
    "\n",
    "  model.compile(optimizer=keras.optimizers.Adam(learning_rate=hp_learning_rate),\n",
    "                loss=keras.losses.SparseCategoricalCrossentropy(from_logits=True),\n",
    "                metrics=['accuracy'])\n",
    "\n",
    "  return model"
   ]
  },
  {
   "cell_type": "code",
   "execution_count": 73,
   "id": "5dfe1183",
   "metadata": {},
   "outputs": [],
   "source": [
    "tuner = kt.Hyperband(model_builder,\n",
    "                     objective='val_accuracy',\n",
    "                     max_epochs=10,\n",
    "                     factor=3,\n",
    "                     directory='my_dir',\n",
    "                     project_name='intro_to_kt')"
   ]
  },
  {
   "cell_type": "code",
   "execution_count": 74,
   "id": "824c3e08",
   "metadata": {},
   "outputs": [
    {
     "name": "stdout",
     "output_type": "stream",
     "text": [
      "Search space summary\n",
      "Default search space size: 4\n",
      "num_hidden_layer (Choice)\n",
      "{'default': 1, 'conditions': [], 'values': [1, 2, 3], 'ordered': True}\n",
      "dropout_rate (Float)\n",
      "{'default': 0.1, 'conditions': [], 'min_value': 0.1, 'max_value': 0.5, 'step': None, 'sampling': None}\n",
      "units (Int)\n",
      "{'default': None, 'conditions': [], 'min_value': 32, 'max_value': 512, 'step': 32, 'sampling': None}\n",
      "learning_rate (Choice)\n",
      "{'default': 0.01, 'conditions': [], 'values': [0.01, 0.001, 0.0001], 'ordered': True}\n"
     ]
    }
   ],
   "source": [
    "tuner.search_space_summary()"
   ]
  },
  {
   "cell_type": "code",
   "execution_count": 75,
   "id": "7c4ba932",
   "metadata": {},
   "outputs": [],
   "source": [
    "stop_early = tf.keras.callbacks.EarlyStopping(monitor='val_loss', patience=2)"
   ]
  },
  {
   "cell_type": "code",
   "execution_count": 76,
   "id": "88068487",
   "metadata": {},
   "outputs": [
    {
     "name": "stdout",
     "output_type": "stream",
     "text": [
      "Trial 30 Complete [00h 00m 14s]\n",
      "val_accuracy: 0.8125\n",
      "\n",
      "Best val_accuracy So Far: 0.887583315372467\n",
      "Total elapsed time: 00h 07m 55s\n",
      "INFO:tensorflow:Oracle triggered exit\n",
      "\n",
      "The hyperparameter search is complete. The optimal number of units in the first densely-connected\n",
      "layer is 480 and the optimal learning rate for the optimizer\n",
      "is 0.001.\n",
      "\n"
     ]
    }
   ],
   "source": [
    "tuner.search(img_train, label_train, epochs=10, validation_split=0.2, callbacks=[stop_early])\n",
    "\n",
    "# Get the optimal hyperparameters\n",
    "best_hps=tuner.get_best_hyperparameters(num_trials=1)[0]\n",
    "\n",
    "print(f\"\"\"\n",
    "The hyperparameter search is complete. The optimal number of units in the first densely-connected\n",
    "layer is {best_hps.get('units')} and the optimal learning rate for the optimizer\n",
    "is {best_hps.get('learning_rate')}.\n",
    "\"\"\")"
   ]
  },
  {
   "cell_type": "code",
   "execution_count": 77,
   "id": "5cbf944b",
   "metadata": {
    "scrolled": true
   },
   "outputs": [
    {
     "name": "stdout",
     "output_type": "stream",
     "text": [
      "Epoch 1/50\n",
      "1500/1500 [==============================] - 9s 6ms/step - loss: 0.5394 - accuracy: 0.8026 - val_loss: 0.4454 - val_accuracy: 0.8367\n",
      "Epoch 2/50\n",
      "1500/1500 [==============================] - 8s 5ms/step - loss: 0.4191 - accuracy: 0.8470 - val_loss: 0.4157 - val_accuracy: 0.8439\n",
      "Epoch 3/50\n",
      "1500/1500 [==============================] - 8s 5ms/step - loss: 0.3854 - accuracy: 0.8593 - val_loss: 0.3742 - val_accuracy: 0.8694\n",
      "Epoch 4/50\n",
      "1500/1500 [==============================] - 8s 6ms/step - loss: 0.3636 - accuracy: 0.8675 - val_loss: 0.3854 - val_accuracy: 0.8660\n",
      "Epoch 5/50\n",
      "1500/1500 [==============================] - 8s 5ms/step - loss: 0.3494 - accuracy: 0.8746 - val_loss: 0.3556 - val_accuracy: 0.8752\n",
      "Epoch 6/50\n",
      "1500/1500 [==============================] - 9s 6ms/step - loss: 0.3319 - accuracy: 0.8782 - val_loss: 0.3521 - val_accuracy: 0.8694\n",
      "Epoch 7/50\n",
      "1500/1500 [==============================] - 8s 6ms/step - loss: 0.3259 - accuracy: 0.8796 - val_loss: 0.3522 - val_accuracy: 0.8710\n",
      "Epoch 8/50\n",
      "1500/1500 [==============================] - 8s 5ms/step - loss: 0.3100 - accuracy: 0.8876 - val_loss: 0.3395 - val_accuracy: 0.8841\n",
      "Epoch 9/50\n",
      "1500/1500 [==============================] - 8s 5ms/step - loss: 0.3030 - accuracy: 0.8895 - val_loss: 0.3414 - val_accuracy: 0.8843\n",
      "Epoch 10/50\n",
      "1500/1500 [==============================] - 8s 5ms/step - loss: 0.2954 - accuracy: 0.8916 - val_loss: 0.3456 - val_accuracy: 0.8809\n",
      "Epoch 11/50\n",
      "1500/1500 [==============================] - 8s 5ms/step - loss: 0.2871 - accuracy: 0.8929 - val_loss: 0.3331 - val_accuracy: 0.8807\n",
      "Epoch 12/50\n",
      "1500/1500 [==============================] - 8s 5ms/step - loss: 0.2863 - accuracy: 0.8940 - val_loss: 0.3169 - val_accuracy: 0.8891\n",
      "Epoch 13/50\n",
      "1500/1500 [==============================] - 8s 5ms/step - loss: 0.2783 - accuracy: 0.8986 - val_loss: 0.3290 - val_accuracy: 0.8823\n",
      "Epoch 14/50\n",
      "1500/1500 [==============================] - 8s 5ms/step - loss: 0.2690 - accuracy: 0.9005 - val_loss: 0.3297 - val_accuracy: 0.8877\n",
      "Epoch 15/50\n",
      "1500/1500 [==============================] - 8s 5ms/step - loss: 0.2662 - accuracy: 0.9015 - val_loss: 0.3208 - val_accuracy: 0.8875\n",
      "Epoch 16/50\n",
      "1500/1500 [==============================] - 9s 6ms/step - loss: 0.2624 - accuracy: 0.9034 - val_loss: 0.3494 - val_accuracy: 0.8798\n",
      "Epoch 17/50\n",
      "1500/1500 [==============================] - 8s 5ms/step - loss: 0.2602 - accuracy: 0.9042 - val_loss: 0.3273 - val_accuracy: 0.8911\n",
      "Epoch 18/50\n",
      "1500/1500 [==============================] - 8s 5ms/step - loss: 0.2523 - accuracy: 0.9085 - val_loss: 0.3290 - val_accuracy: 0.8921\n",
      "Epoch 19/50\n",
      "1500/1500 [==============================] - 8s 5ms/step - loss: 0.2545 - accuracy: 0.9078 - val_loss: 0.3253 - val_accuracy: 0.8923\n",
      "Epoch 20/50\n",
      "1500/1500 [==============================] - 9s 6ms/step - loss: 0.2440 - accuracy: 0.9100 - val_loss: 0.3375 - val_accuracy: 0.8848\n",
      "Epoch 21/50\n",
      "1500/1500 [==============================] - 8s 6ms/step - loss: 0.2452 - accuracy: 0.9110 - val_loss: 0.3924 - val_accuracy: 0.8895\n",
      "Epoch 22/50\n",
      "1500/1500 [==============================] - 8s 6ms/step - loss: 0.2440 - accuracy: 0.9099 - val_loss: 0.3392 - val_accuracy: 0.8888\n",
      "Epoch 23/50\n",
      "1500/1500 [==============================] - 8s 6ms/step - loss: 0.2327 - accuracy: 0.9120 - val_loss: 0.3241 - val_accuracy: 0.8959\n",
      "Epoch 24/50\n",
      "1500/1500 [==============================] - 9s 6ms/step - loss: 0.2382 - accuracy: 0.9129 - val_loss: 0.3501 - val_accuracy: 0.8878\n",
      "Epoch 25/50\n",
      "1500/1500 [==============================] - 9s 6ms/step - loss: 0.2391 - accuracy: 0.9137 - val_loss: 0.3337 - val_accuracy: 0.8930\n",
      "Epoch 26/50\n",
      "1500/1500 [==============================] - 8s 6ms/step - loss: 0.2257 - accuracy: 0.9148 - val_loss: 0.3343 - val_accuracy: 0.8959\n",
      "Epoch 27/50\n",
      "1500/1500 [==============================] - 8s 5ms/step - loss: 0.2272 - accuracy: 0.9164 - val_loss: 0.3591 - val_accuracy: 0.8898\n",
      "Epoch 28/50\n",
      "1500/1500 [==============================] - 8s 6ms/step - loss: 0.2231 - accuracy: 0.9179 - val_loss: 0.3482 - val_accuracy: 0.8954\n",
      "Epoch 29/50\n",
      "1500/1500 [==============================] - 9s 6ms/step - loss: 0.2257 - accuracy: 0.9167 - val_loss: 0.3625 - val_accuracy: 0.8937\n",
      "Epoch 30/50\n",
      "1500/1500 [==============================] - 8s 5ms/step - loss: 0.2213 - accuracy: 0.9191 - val_loss: 0.3465 - val_accuracy: 0.8944\n",
      "Epoch 31/50\n",
      "1500/1500 [==============================] - 9s 6ms/step - loss: 0.2201 - accuracy: 0.9189 - val_loss: 0.3474 - val_accuracy: 0.8965\n",
      "Epoch 32/50\n",
      "1500/1500 [==============================] - 8s 5ms/step - loss: 0.2133 - accuracy: 0.9206 - val_loss: 0.3669 - val_accuracy: 0.8949\n",
      "Epoch 33/50\n",
      "1500/1500 [==============================] - 8s 5ms/step - loss: 0.2119 - accuracy: 0.9231 - val_loss: 0.3776 - val_accuracy: 0.8979\n",
      "Epoch 34/50\n",
      "1500/1500 [==============================] - 8s 6ms/step - loss: 0.2169 - accuracy: 0.9210 - val_loss: 0.4059 - val_accuracy: 0.8899\n",
      "Epoch 35/50\n",
      "1500/1500 [==============================] - 9s 6ms/step - loss: 0.2131 - accuracy: 0.9224 - val_loss: 0.5151 - val_accuracy: 0.8943\n",
      "Epoch 36/50\n",
      "1500/1500 [==============================] - 8s 6ms/step - loss: 0.2108 - accuracy: 0.9237 - val_loss: 0.5015 - val_accuracy: 0.8957\n",
      "Epoch 37/50\n",
      "1500/1500 [==============================] - 8s 5ms/step - loss: 0.2074 - accuracy: 0.9236 - val_loss: 0.4193 - val_accuracy: 0.8957\n",
      "Epoch 38/50\n",
      "1500/1500 [==============================] - 8s 5ms/step - loss: 0.2099 - accuracy: 0.9241 - val_loss: 0.4840 - val_accuracy: 0.8946\n",
      "Epoch 39/50\n",
      "1500/1500 [==============================] - 8s 5ms/step - loss: 0.2047 - accuracy: 0.9241 - val_loss: 0.4315 - val_accuracy: 0.8972\n",
      "Epoch 40/50\n",
      "1500/1500 [==============================] - 8s 5ms/step - loss: 0.2062 - accuracy: 0.9236 - val_loss: 0.3835 - val_accuracy: 0.8953\n",
      "Epoch 41/50\n",
      "1500/1500 [==============================] - 9s 6ms/step - loss: 0.2016 - accuracy: 0.9255 - val_loss: 0.4054 - val_accuracy: 0.8965\n",
      "Epoch 42/50\n",
      "1500/1500 [==============================] - 8s 5ms/step - loss: 0.2022 - accuracy: 0.9276 - val_loss: 0.3960 - val_accuracy: 0.8913\n",
      "Epoch 43/50\n",
      "1500/1500 [==============================] - 8s 6ms/step - loss: 0.1969 - accuracy: 0.9284 - val_loss: 0.3729 - val_accuracy: 0.8958\n",
      "Epoch 44/50\n",
      "1500/1500 [==============================] - 8s 6ms/step - loss: 0.1925 - accuracy: 0.9290 - val_loss: 0.3787 - val_accuracy: 0.8914\n",
      "Epoch 45/50\n",
      "1500/1500 [==============================] - 9s 6ms/step - loss: 0.1988 - accuracy: 0.9293 - val_loss: 0.4907 - val_accuracy: 0.8945\n",
      "Epoch 46/50\n",
      "1500/1500 [==============================] - 8s 6ms/step - loss: 0.2057 - accuracy: 0.9281 - val_loss: 0.3932 - val_accuracy: 0.8957\n",
      "Epoch 47/50\n",
      "1500/1500 [==============================] - 9s 6ms/step - loss: 0.1911 - accuracy: 0.9297 - val_loss: 0.4311 - val_accuracy: 0.8969\n",
      "Epoch 48/50\n",
      "1500/1500 [==============================] - 8s 6ms/step - loss: 0.1844 - accuracy: 0.9321 - val_loss: 0.5165 - val_accuracy: 0.8965\n",
      "Epoch 49/50\n",
      "1500/1500 [==============================] - 9s 6ms/step - loss: 0.1932 - accuracy: 0.9309 - val_loss: 0.4605 - val_accuracy: 0.8963\n",
      "Epoch 50/50\n",
      "1500/1500 [==============================] - 8s 5ms/step - loss: 0.1909 - accuracy: 0.9293 - val_loss: 0.4385 - val_accuracy: 0.8957\n",
      "Best epoch: 33\n"
     ]
    }
   ],
   "source": [
    "# Build the model with the optimal hyperparameters and train it on the data for 50 epochs\n",
    "model = tuner.hypermodel.build(best_hps)\n",
    "history = model.fit(img_train, label_train, epochs=50, validation_split=0.2)\n",
    "\n",
    "val_acc_per_epoch = history.history['val_accuracy']\n",
    "best_epoch = val_acc_per_epoch.index(max(val_acc_per_epoch)) + 1\n",
    "print('Best epoch: %d' % (best_epoch,))"
   ]
  },
  {
   "cell_type": "markdown",
   "id": "da813c92",
   "metadata": {},
   "source": [
    "The best epoch for this model is 33."
   ]
  },
  {
   "cell_type": "code",
   "execution_count": 78,
   "id": "31c4b53c",
   "metadata": {},
   "outputs": [
    {
     "name": "stdout",
     "output_type": "stream",
     "text": [
      "Epoch 1/33\n",
      "1500/1500 [==============================] - 9s 6ms/step - loss: 0.5456 - accuracy: 0.8033 - val_loss: 0.4363 - val_accuracy: 0.8457\n",
      "Epoch 2/33\n",
      "1500/1500 [==============================] - 8s 5ms/step - loss: 0.4155 - accuracy: 0.8512 - val_loss: 0.3895 - val_accuracy: 0.8630\n",
      "Epoch 3/33\n",
      "1500/1500 [==============================] - 8s 5ms/step - loss: 0.3857 - accuracy: 0.8609 - val_loss: 0.3556 - val_accuracy: 0.8750\n",
      "Epoch 4/33\n",
      "1500/1500 [==============================] - 8s 5ms/step - loss: 0.3565 - accuracy: 0.8708 - val_loss: 0.3524 - val_accuracy: 0.8737\n",
      "Epoch 5/33\n",
      "1500/1500 [==============================] - 8s 6ms/step - loss: 0.3429 - accuracy: 0.8758 - val_loss: 0.3682 - val_accuracy: 0.8740\n",
      "Epoch 6/33\n",
      "1500/1500 [==============================] - 8s 6ms/step - loss: 0.3317 - accuracy: 0.8808 - val_loss: 0.3339 - val_accuracy: 0.8857\n",
      "Epoch 7/33\n",
      "1500/1500 [==============================] - 8s 5ms/step - loss: 0.3192 - accuracy: 0.8824 - val_loss: 0.3435 - val_accuracy: 0.8814\n",
      "Epoch 8/33\n",
      "1500/1500 [==============================] - 9s 6ms/step - loss: 0.3106 - accuracy: 0.8852 - val_loss: 0.3285 - val_accuracy: 0.8850\n",
      "Epoch 9/33\n",
      "1500/1500 [==============================] - 9s 6ms/step - loss: 0.3048 - accuracy: 0.8899 - val_loss: 0.3466 - val_accuracy: 0.8764\n",
      "Epoch 10/33\n",
      "1500/1500 [==============================] - 9s 6ms/step - loss: 0.2922 - accuracy: 0.8923 - val_loss: 0.3293 - val_accuracy: 0.8885\n",
      "Epoch 11/33\n",
      "1500/1500 [==============================] - 8s 5ms/step - loss: 0.2887 - accuracy: 0.8952 - val_loss: 0.3454 - val_accuracy: 0.8864\n",
      "Epoch 12/33\n",
      "1500/1500 [==============================] - 8s 5ms/step - loss: 0.2831 - accuracy: 0.8965 - val_loss: 0.3265 - val_accuracy: 0.8890\n",
      "Epoch 13/33\n",
      "1500/1500 [==============================] - 8s 6ms/step - loss: 0.2736 - accuracy: 0.8995 - val_loss: 0.3257 - val_accuracy: 0.8908\n",
      "Epoch 14/33\n",
      "1500/1500 [==============================] - 8s 5ms/step - loss: 0.2726 - accuracy: 0.9005 - val_loss: 0.3176 - val_accuracy: 0.8903\n",
      "Epoch 15/33\n",
      "1500/1500 [==============================] - 8s 5ms/step - loss: 0.2673 - accuracy: 0.9018 - val_loss: 0.3220 - val_accuracy: 0.8926\n",
      "Epoch 16/33\n",
      "1500/1500 [==============================] - 8s 5ms/step - loss: 0.2595 - accuracy: 0.9049 - val_loss: 0.3497 - val_accuracy: 0.8875\n",
      "Epoch 17/33\n",
      "1500/1500 [==============================] - 8s 5ms/step - loss: 0.2547 - accuracy: 0.9074 - val_loss: 0.3149 - val_accuracy: 0.8886\n",
      "Epoch 18/33\n",
      "1500/1500 [==============================] - 8s 6ms/step - loss: 0.2486 - accuracy: 0.9088 - val_loss: 0.3150 - val_accuracy: 0.8935\n",
      "Epoch 19/33\n",
      "1500/1500 [==============================] - 8s 5ms/step - loss: 0.2486 - accuracy: 0.9094 - val_loss: 0.3394 - val_accuracy: 0.8888\n",
      "Epoch 20/33\n",
      "1500/1500 [==============================] - 8s 5ms/step - loss: 0.2471 - accuracy: 0.9075 - val_loss: 0.3177 - val_accuracy: 0.8920\n",
      "Epoch 21/33\n",
      "1500/1500 [==============================] - 9s 6ms/step - loss: 0.2431 - accuracy: 0.9098 - val_loss: 0.3351 - val_accuracy: 0.8873\n",
      "Epoch 22/33\n",
      "1500/1500 [==============================] - 8s 5ms/step - loss: 0.2400 - accuracy: 0.9135 - val_loss: 0.3371 - val_accuracy: 0.8938\n",
      "Epoch 23/33\n",
      "1500/1500 [==============================] - 8s 6ms/step - loss: 0.2374 - accuracy: 0.9128 - val_loss: 0.3220 - val_accuracy: 0.8896\n",
      "Epoch 24/33\n",
      "1500/1500 [==============================] - 8s 5ms/step - loss: 0.2330 - accuracy: 0.9141 - val_loss: 0.3197 - val_accuracy: 0.8926\n",
      "Epoch 25/33\n",
      "1500/1500 [==============================] - 9s 6ms/step - loss: 0.2309 - accuracy: 0.9143 - val_loss: 0.3607 - val_accuracy: 0.8937\n",
      "Epoch 26/33\n",
      "1500/1500 [==============================] - 8s 5ms/step - loss: 0.2299 - accuracy: 0.9162 - val_loss: 0.3212 - val_accuracy: 0.8947\n",
      "Epoch 27/33\n",
      "1500/1500 [==============================] - 8s 5ms/step - loss: 0.2285 - accuracy: 0.9175 - val_loss: 0.3317 - val_accuracy: 0.8980\n",
      "Epoch 28/33\n",
      "1500/1500 [==============================] - 8s 5ms/step - loss: 0.2243 - accuracy: 0.9186 - val_loss: 0.3310 - val_accuracy: 0.8926\n",
      "Epoch 29/33\n",
      "1500/1500 [==============================] - 8s 5ms/step - loss: 0.2181 - accuracy: 0.9198 - val_loss: 0.3412 - val_accuracy: 0.8923\n",
      "Epoch 30/33\n",
      "1500/1500 [==============================] - 8s 5ms/step - loss: 0.2152 - accuracy: 0.9199 - val_loss: 0.3262 - val_accuracy: 0.8876\n",
      "Epoch 31/33\n",
      "1500/1500 [==============================] - 8s 6ms/step - loss: 0.2189 - accuracy: 0.9197 - val_loss: 0.3318 - val_accuracy: 0.8969\n",
      "Epoch 32/33\n",
      "1500/1500 [==============================] - 8s 5ms/step - loss: 0.2110 - accuracy: 0.9215 - val_loss: 0.3506 - val_accuracy: 0.8917\n",
      "Epoch 33/33\n",
      "1500/1500 [==============================] - 8s 5ms/step - loss: 0.2118 - accuracy: 0.9224 - val_loss: 0.3571 - val_accuracy: 0.8952\n"
     ]
    },
    {
     "data": {
      "text/plain": [
       "<tensorflow.python.keras.callbacks.History at 0x1a31856d070>"
      ]
     },
     "execution_count": 78,
     "metadata": {},
     "output_type": "execute_result"
    }
   ],
   "source": [
    "hypermodel = tuner.hypermodel.build(best_hps)\n",
    "\n",
    "# Retrain the model\n",
    "hypermodel.fit(img_train, label_train, epochs=best_epoch, validation_split=0.2)"
   ]
  },
  {
   "cell_type": "code",
   "execution_count": 79,
   "id": "9a351bd9",
   "metadata": {},
   "outputs": [
    {
     "name": "stdout",
     "output_type": "stream",
     "text": [
      "313/313 [==============================] - 1s 3ms/step - loss: 0.3993 - accuracy: 0.8843\n",
      "[test loss, test accuracy]: [0.39926213026046753, 0.8842999935150146]\n"
     ]
    }
   ],
   "source": [
    "eval_result = hypermodel.evaluate(img_test, label_test)\n",
    "print(\"[test loss, test accuracy]:\", eval_result)"
   ]
  },
  {
   "cell_type": "markdown",
   "id": "a51fe16c",
   "metadata": {},
   "source": [
    "Here, the test accuracy of the best model is 0.88 and "
   ]
  },
  {
   "cell_type": "markdown",
   "id": "55fa2401",
   "metadata": {},
   "source": [
    "##  Transfer learning \n"
   ]
  },
  {
   "cell_type": "markdown",
   "id": "92de9a73",
   "metadata": {},
   "source": [
    "### For this part I have used `Mobilenet` network from keras applications as pretrained model and I have implemented my object and non-object images in this pretrained model."
   ]
  },
  {
   "cell_type": "code",
   "execution_count": 102,
   "id": "c8ddaefc-b495-4dfd-b411-32446c00a8f0",
   "metadata": {},
   "outputs": [],
   "source": [
    "import tensorflow as tf\n",
    "from tensorflow.keras.layers import Input, Lambda, Dense, Flatten\n",
    "from tensorflow.keras.models import Model\n",
    "from tensorflow.keras.applications.mobilenet import MobileNet\n",
    "from tensorflow.keras.applications.mobilenet import preprocess_input\n",
    "from tensorflow.keras.preprocessing import image\n",
    "from tensorflow.keras.preprocessing.image import ImageDataGenerator\n",
    "from tensorflow.keras.models import Sequential\n",
    "\n",
    "import numpy as np\n",
    "from glob import glob\n",
    "import matplotlib.pyplot as plt\n",
    "\n"
   ]
  },
  {
   "cell_type": "code",
   "execution_count": 141,
   "id": "f2be23f2-4e36-429d-953d-bdc0fa1eb790",
   "metadata": {},
   "outputs": [
    {
     "name": "stderr",
     "output_type": "stream",
     "text": [
      "Copying files: 160 files [00:00, 578.19 files/s]\n"
     ]
    }
   ],
   "source": [
    "# re-size all the images to this\n",
    "IMAGE_SIZE = [224, 224]\n",
    "\n",
    "import splitfolders\n",
    "object_dir = 'C:/Users/nabin/Desktop/DAB300/Images'\n",
    "splitfolders.ratio(object_dir, output=\"C:/Users/nabin/Desktop/DAB300/Train-Image\", seed=1337, ratio=(0.625, 0.1875, 0.1875),group_prefix=None)\n",
    "train_dir = 'C:/Users/nabin/Desktop/DAB300/Train-Image/train'\n",
    "val_dir = 'C:/Users/nabin/Desktop/DAB300/Train-Image/val'\n",
    "test_dir = 'C:/Users/nabin/Desktop/DAB300/Train-Image/test'\n"
   ]
  },
  {
   "cell_type": "code",
   "execution_count": 142,
   "id": "b17b8a21-df55-48d3-bf8c-3ebe0ea54122",
   "metadata": {
    "collapsed": true
   },
   "outputs": [
    {
     "data": {
      "text/plain": [
       "['C:/Users/elnin/Desktop/DAB300/lab 4/Train-Image/train\\\\non-object',\n",
       " 'C:/Users/elnin/Desktop/DAB300/lab 4/Train-Image/train\\\\object']"
      ]
     },
     "execution_count": 142,
     "metadata": {},
     "output_type": "execute_result"
    }
   ],
   "source": [
    "# add preprocessing layer to the front of VGG\n",
    "mnet = MobileNet(input_shape=IMAGE_SIZE + [3], weights='imagenet', include_top=False)\n",
    "\n",
    "# don't train existing weights\n",
    "for layer in mnet.layers:\n",
    "  layer.trainable = False\n",
    "  \n",
    "\n",
    "  \n",
    "  # useful for getting number of classes\n",
    "folders = glob('C:/Users/nabin/Desktop/DAB300/Train-Image/train/*')\n",
    "folders"
   ]
  },
  {
   "cell_type": "code",
   "execution_count": 143,
   "id": "c1eb49ba-e4d1-47d6-8260-2372522651e0",
   "metadata": {},
   "outputs": [],
   "source": [
    "# our layers \n",
    "x = Flatten()(mnet.output)\n",
    "prediction = Dense(len(folders), activation='softmax')(x)"
   ]
  },
  {
   "cell_type": "code",
   "execution_count": 144,
   "id": "c119aa40-29f8-4f52-afb4-579af9644270",
   "metadata": {},
   "outputs": [
    {
     "name": "stdout",
     "output_type": "stream",
     "text": [
      "Model: \"functional_7\"\n",
      "_________________________________________________________________\n",
      "Layer (type)                 Output Shape              Param #   \n",
      "=================================================================\n",
      "input_5 (InputLayer)         [(None, 224, 224, 3)]     0         \n",
      "_________________________________________________________________\n",
      "conv1_pad (ZeroPadding2D)    (None, 225, 225, 3)       0         \n",
      "_________________________________________________________________\n",
      "conv1 (Conv2D)               (None, 112, 112, 32)      864       \n",
      "_________________________________________________________________\n",
      "conv1_bn (BatchNormalization (None, 112, 112, 32)      128       \n",
      "_________________________________________________________________\n",
      "conv1_relu (ReLU)            (None, 112, 112, 32)      0         \n",
      "_________________________________________________________________\n",
      "conv_dw_1 (DepthwiseConv2D)  (None, 112, 112, 32)      288       \n",
      "_________________________________________________________________\n",
      "conv_dw_1_bn (BatchNormaliza (None, 112, 112, 32)      128       \n",
      "_________________________________________________________________\n",
      "conv_dw_1_relu (ReLU)        (None, 112, 112, 32)      0         \n",
      "_________________________________________________________________\n",
      "conv_pw_1 (Conv2D)           (None, 112, 112, 64)      2048      \n",
      "_________________________________________________________________\n",
      "conv_pw_1_bn (BatchNormaliza (None, 112, 112, 64)      256       \n",
      "_________________________________________________________________\n",
      "conv_pw_1_relu (ReLU)        (None, 112, 112, 64)      0         \n",
      "_________________________________________________________________\n",
      "conv_pad_2 (ZeroPadding2D)   (None, 113, 113, 64)      0         \n",
      "_________________________________________________________________\n",
      "conv_dw_2 (DepthwiseConv2D)  (None, 56, 56, 64)        576       \n",
      "_________________________________________________________________\n",
      "conv_dw_2_bn (BatchNormaliza (None, 56, 56, 64)        256       \n",
      "_________________________________________________________________\n",
      "conv_dw_2_relu (ReLU)        (None, 56, 56, 64)        0         \n",
      "_________________________________________________________________\n",
      "conv_pw_2 (Conv2D)           (None, 56, 56, 128)       8192      \n",
      "_________________________________________________________________\n",
      "conv_pw_2_bn (BatchNormaliza (None, 56, 56, 128)       512       \n",
      "_________________________________________________________________\n",
      "conv_pw_2_relu (ReLU)        (None, 56, 56, 128)       0         \n",
      "_________________________________________________________________\n",
      "conv_dw_3 (DepthwiseConv2D)  (None, 56, 56, 128)       1152      \n",
      "_________________________________________________________________\n",
      "conv_dw_3_bn (BatchNormaliza (None, 56, 56, 128)       512       \n",
      "_________________________________________________________________\n",
      "conv_dw_3_relu (ReLU)        (None, 56, 56, 128)       0         \n",
      "_________________________________________________________________\n",
      "conv_pw_3 (Conv2D)           (None, 56, 56, 128)       16384     \n",
      "_________________________________________________________________\n",
      "conv_pw_3_bn (BatchNormaliza (None, 56, 56, 128)       512       \n",
      "_________________________________________________________________\n",
      "conv_pw_3_relu (ReLU)        (None, 56, 56, 128)       0         \n",
      "_________________________________________________________________\n",
      "conv_pad_4 (ZeroPadding2D)   (None, 57, 57, 128)       0         \n",
      "_________________________________________________________________\n",
      "conv_dw_4 (DepthwiseConv2D)  (None, 28, 28, 128)       1152      \n",
      "_________________________________________________________________\n",
      "conv_dw_4_bn (BatchNormaliza (None, 28, 28, 128)       512       \n",
      "_________________________________________________________________\n",
      "conv_dw_4_relu (ReLU)        (None, 28, 28, 128)       0         \n",
      "_________________________________________________________________\n",
      "conv_pw_4 (Conv2D)           (None, 28, 28, 256)       32768     \n",
      "_________________________________________________________________\n",
      "conv_pw_4_bn (BatchNormaliza (None, 28, 28, 256)       1024      \n",
      "_________________________________________________________________\n",
      "conv_pw_4_relu (ReLU)        (None, 28, 28, 256)       0         \n",
      "_________________________________________________________________\n",
      "conv_dw_5 (DepthwiseConv2D)  (None, 28, 28, 256)       2304      \n",
      "_________________________________________________________________\n",
      "conv_dw_5_bn (BatchNormaliza (None, 28, 28, 256)       1024      \n",
      "_________________________________________________________________\n",
      "conv_dw_5_relu (ReLU)        (None, 28, 28, 256)       0         \n",
      "_________________________________________________________________\n",
      "conv_pw_5 (Conv2D)           (None, 28, 28, 256)       65536     \n",
      "_________________________________________________________________\n",
      "conv_pw_5_bn (BatchNormaliza (None, 28, 28, 256)       1024      \n",
      "_________________________________________________________________\n",
      "conv_pw_5_relu (ReLU)        (None, 28, 28, 256)       0         \n",
      "_________________________________________________________________\n",
      "conv_pad_6 (ZeroPadding2D)   (None, 29, 29, 256)       0         \n",
      "_________________________________________________________________\n",
      "conv_dw_6 (DepthwiseConv2D)  (None, 14, 14, 256)       2304      \n",
      "_________________________________________________________________\n",
      "conv_dw_6_bn (BatchNormaliza (None, 14, 14, 256)       1024      \n",
      "_________________________________________________________________\n",
      "conv_dw_6_relu (ReLU)        (None, 14, 14, 256)       0         \n",
      "_________________________________________________________________\n",
      "conv_pw_6 (Conv2D)           (None, 14, 14, 512)       131072    \n",
      "_________________________________________________________________\n",
      "conv_pw_6_bn (BatchNormaliza (None, 14, 14, 512)       2048      \n",
      "_________________________________________________________________\n",
      "conv_pw_6_relu (ReLU)        (None, 14, 14, 512)       0         \n",
      "_________________________________________________________________\n",
      "conv_dw_7 (DepthwiseConv2D)  (None, 14, 14, 512)       4608      \n",
      "_________________________________________________________________\n",
      "conv_dw_7_bn (BatchNormaliza (None, 14, 14, 512)       2048      \n",
      "_________________________________________________________________\n",
      "conv_dw_7_relu (ReLU)        (None, 14, 14, 512)       0         \n",
      "_________________________________________________________________\n",
      "conv_pw_7 (Conv2D)           (None, 14, 14, 512)       262144    \n",
      "_________________________________________________________________\n",
      "conv_pw_7_bn (BatchNormaliza (None, 14, 14, 512)       2048      \n",
      "_________________________________________________________________\n",
      "conv_pw_7_relu (ReLU)        (None, 14, 14, 512)       0         \n",
      "_________________________________________________________________\n",
      "conv_dw_8 (DepthwiseConv2D)  (None, 14, 14, 512)       4608      \n",
      "_________________________________________________________________\n",
      "conv_dw_8_bn (BatchNormaliza (None, 14, 14, 512)       2048      \n",
      "_________________________________________________________________\n",
      "conv_dw_8_relu (ReLU)        (None, 14, 14, 512)       0         \n",
      "_________________________________________________________________\n",
      "conv_pw_8 (Conv2D)           (None, 14, 14, 512)       262144    \n",
      "_________________________________________________________________\n",
      "conv_pw_8_bn (BatchNormaliza (None, 14, 14, 512)       2048      \n",
      "_________________________________________________________________\n",
      "conv_pw_8_relu (ReLU)        (None, 14, 14, 512)       0         \n",
      "_________________________________________________________________\n",
      "conv_dw_9 (DepthwiseConv2D)  (None, 14, 14, 512)       4608      \n",
      "_________________________________________________________________\n",
      "conv_dw_9_bn (BatchNormaliza (None, 14, 14, 512)       2048      \n",
      "_________________________________________________________________\n",
      "conv_dw_9_relu (ReLU)        (None, 14, 14, 512)       0         \n",
      "_________________________________________________________________\n",
      "conv_pw_9 (Conv2D)           (None, 14, 14, 512)       262144    \n",
      "_________________________________________________________________\n",
      "conv_pw_9_bn (BatchNormaliza (None, 14, 14, 512)       2048      \n",
      "_________________________________________________________________\n",
      "conv_pw_9_relu (ReLU)        (None, 14, 14, 512)       0         \n",
      "_________________________________________________________________\n",
      "conv_dw_10 (DepthwiseConv2D) (None, 14, 14, 512)       4608      \n",
      "_________________________________________________________________\n",
      "conv_dw_10_bn (BatchNormaliz (None, 14, 14, 512)       2048      \n",
      "_________________________________________________________________\n",
      "conv_dw_10_relu (ReLU)       (None, 14, 14, 512)       0         \n",
      "_________________________________________________________________\n",
      "conv_pw_10 (Conv2D)          (None, 14, 14, 512)       262144    \n",
      "_________________________________________________________________\n",
      "conv_pw_10_bn (BatchNormaliz (None, 14, 14, 512)       2048      \n",
      "_________________________________________________________________\n",
      "conv_pw_10_relu (ReLU)       (None, 14, 14, 512)       0         \n",
      "_________________________________________________________________\n",
      "conv_dw_11 (DepthwiseConv2D) (None, 14, 14, 512)       4608      \n",
      "_________________________________________________________________\n",
      "conv_dw_11_bn (BatchNormaliz (None, 14, 14, 512)       2048      \n",
      "_________________________________________________________________\n",
      "conv_dw_11_relu (ReLU)       (None, 14, 14, 512)       0         \n",
      "_________________________________________________________________\n",
      "conv_pw_11 (Conv2D)          (None, 14, 14, 512)       262144    \n",
      "_________________________________________________________________\n",
      "conv_pw_11_bn (BatchNormaliz (None, 14, 14, 512)       2048      \n",
      "_________________________________________________________________\n",
      "conv_pw_11_relu (ReLU)       (None, 14, 14, 512)       0         \n",
      "_________________________________________________________________\n",
      "conv_pad_12 (ZeroPadding2D)  (None, 15, 15, 512)       0         \n",
      "_________________________________________________________________\n",
      "conv_dw_12 (DepthwiseConv2D) (None, 7, 7, 512)         4608      \n",
      "_________________________________________________________________\n",
      "conv_dw_12_bn (BatchNormaliz (None, 7, 7, 512)         2048      \n",
      "_________________________________________________________________\n",
      "conv_dw_12_relu (ReLU)       (None, 7, 7, 512)         0         \n",
      "_________________________________________________________________\n",
      "conv_pw_12 (Conv2D)          (None, 7, 7, 1024)        524288    \n",
      "_________________________________________________________________\n",
      "conv_pw_12_bn (BatchNormaliz (None, 7, 7, 1024)        4096      \n",
      "_________________________________________________________________\n",
      "conv_pw_12_relu (ReLU)       (None, 7, 7, 1024)        0         \n",
      "_________________________________________________________________\n",
      "conv_dw_13 (DepthwiseConv2D) (None, 7, 7, 1024)        9216      \n",
      "_________________________________________________________________\n",
      "conv_dw_13_bn (BatchNormaliz (None, 7, 7, 1024)        4096      \n",
      "_________________________________________________________________\n",
      "conv_dw_13_relu (ReLU)       (None, 7, 7, 1024)        0         \n",
      "_________________________________________________________________\n",
      "conv_pw_13 (Conv2D)          (None, 7, 7, 1024)        1048576   \n",
      "_________________________________________________________________\n",
      "conv_pw_13_bn (BatchNormaliz (None, 7, 7, 1024)        4096      \n",
      "_________________________________________________________________\n",
      "conv_pw_13_relu (ReLU)       (None, 7, 7, 1024)        0         \n",
      "_________________________________________________________________\n",
      "flatten_8 (Flatten)          (None, 50176)             0         \n",
      "_________________________________________________________________\n",
      "dense_19 (Dense)             (None, 2)                 100354    \n",
      "=================================================================\n",
      "Total params: 3,329,218\n",
      "Trainable params: 100,354\n",
      "Non-trainable params: 3,228,864\n",
      "_________________________________________________________________\n"
     ]
    }
   ],
   "source": [
    "# create a model object\n",
    "model_frm3 = Model(inputs=mnet.input, outputs=prediction)\n",
    "\n",
    "# view the structure of the model\n",
    "model_frm3.summary()"
   ]
  },
  {
   "cell_type": "code",
   "execution_count": 145,
   "id": "3467cb32-507f-4aad-8f87-1957cc6ca183",
   "metadata": {},
   "outputs": [],
   "source": [
    "# tell the model what cost and optimization method to use\n",
    "model_frm3.compile(\n",
    "  loss='categorical_crossentropy',\n",
    "  optimizer='adam',\n",
    "  metrics=['accuracy']\n",
    ")"
   ]
  },
  {
   "cell_type": "code",
   "execution_count": 163,
   "id": "9a8116ac-5253-4fef-b446-8aa9d44dff4f",
   "metadata": {
    "scrolled": true
   },
   "outputs": [
    {
     "name": "stdout",
     "output_type": "stream",
     "text": [
      "Found 100 images belonging to 2 classes.\n",
      "Found 30 images belonging to 2 classes.\n",
      "Found 30 images belonging to 2 classes.\n"
     ]
    }
   ],
   "source": [
    "# load the same images that we used for lab4\n",
    "from tensorflow.keras.preprocessing.image import ImageDataGenerator, array_to_img, img_to_array, load_img\n",
    "image_size = [224,224]\n",
    "batch_size = 32\n",
    "\n",
    "train_datagen = ImageDataGenerator(\n",
    "        rotation_range=40,\n",
    "        width_shift_range=0.2,\n",
    "        height_shift_range=0.2,\n",
    "        shear_range=0.2,\n",
    "        zoom_range=0.2,\n",
    "        horizontal_flip=True,\n",
    "        vertical_flip=True,\n",
    "        fill_mode='nearest')\n",
    "test_datagen = ImageDataGenerator(rescale=1./255)\n",
    "\n",
    "\n",
    "training_set = train_datagen.flow_from_directory('C:/Users/nabin/Desktop/DAB300/Train-Image/train',\n",
    "                                                 target_size = (224, 224),\n",
    "                                                 batch_size = 32,\n",
    "                                                 class_mode = 'categorical')\n",
    "\n",
    "test_set = test_datagen.flow_from_directory('C:/Users/nabin/Desktop/DAB300/Train-Image/test',\n",
    "                                            target_size = (224, 224),\n",
    "                                            batch_size = 32,\n",
    "                                            class_mode = 'categorical')\n",
    "val_dataset = test_datagen.flow_from_directory(\"C:/Users/nabin/Desktop/DAB300/Train-Image/val/\",\n",
    "                                          target_size=(224,224),\n",
    "                                          batch_size =32,\n",
    "                                          class_mode = 'binary')\n",
    "\n"
   ]
  },
  {
   "cell_type": "code",
   "execution_count": 157,
   "id": "7d16404e",
   "metadata": {
    "scrolled": true
   },
   "outputs": [
    {
     "name": "stdout",
     "output_type": "stream",
     "text": [
      "Epoch 1/5\n",
      "4/4 [==============================] - 6s 2s/step - loss: 5.2009e-06 - accuracy: 1.0000 - val_loss: 4.0888 - val_accuracy: 0.7742\n",
      "Epoch 2/5\n",
      "4/4 [==============================] - 5s 1s/step - loss: 4.7212e-08 - accuracy: 1.0000 - val_loss: 4.3566 - val_accuracy: 0.7419\n",
      "Epoch 3/5\n",
      "4/4 [==============================] - 6s 1s/step - loss: 0.0021 - accuracy: 1.0000 - val_loss: 4.3554 - val_accuracy: 0.7419\n",
      "Epoch 4/5\n",
      "4/4 [==============================] - 5s 1s/step - loss: 7.2609e-06 - accuracy: 1.0000 - val_loss: 4.3035 - val_accuracy: 0.7419\n",
      "Epoch 5/5\n",
      "4/4 [==============================] - 5s 1s/step - loss: 1.8042e-05 - accuracy: 1.0000 - val_loss: 4.2514 - val_accuracy: 0.7419\n"
     ]
    }
   ],
   "source": [
    "# fit the model\n",
    "r = model_frm3.fit_generator(\n",
    "  training_set,\n",
    "  validation_data=test_set,\n",
    "  epochs=5,\n",
    "  steps_per_epoch=len(training_set),\n",
    "  validation_steps=len(test_set)\n",
    ")\n"
   ]
  },
  {
   "cell_type": "code",
   "execution_count": 158,
   "id": "9ef83252",
   "metadata": {},
   "outputs": [
    {
     "name": "stdout",
     "output_type": "stream",
     "text": [
      "1/1 [==============================] - 0s 1ms/step - loss: 4.2514 - accuracy: 0.7419\n"
     ]
    }
   ],
   "source": [
    "score_aug, acc_aug = model_frm3.evaluate(test_set,\n",
    "                            batch_size=batch_size)"
   ]
  },
  {
   "cell_type": "markdown",
   "id": "7946a5b1",
   "metadata": {},
   "source": [
    "### Here, the test accuracy is 74% "
   ]
  },
  {
   "cell_type": "markdown",
   "id": "95cac4e7",
   "metadata": {},
   "source": [
    "## Fine-tuning\n",
    "\n"
   ]
  },
  {
   "cell_type": "code",
   "execution_count": 45,
   "id": "15702338",
   "metadata": {},
   "outputs": [
    {
     "name": "stdout",
     "output_type": "stream",
     "text": [
      "Found 101 images belonging to 2 classes.\n",
      "Found 31 images belonging to 2 classes.\n",
      "Found 30 images belonging to 2 classes.\n"
     ]
    }
   ],
   "source": [
    "#Resizing size of images to 148 by 148 and set batch size to 32\n",
    "\n",
    "img_height=224 \n",
    "img_width=224\n",
    "batch_size=32\n",
    "\n",
    "train = ImageDataGenerator(rescale=1/255)\n",
    "test = ImageDataGenerator(rescale=1/255)\n",
    "val = ImageDataGenerator(rescale=1/255)\n",
    "datagen = ImageDataGenerator(rescale=1./255) # Divide each pixel by 255 (rescale)\n",
    "\n",
    "train_dataset = train.flow_from_directory(\"C:/Users/nabin/Desktop/DAB300/Train-Image/train/\",\n",
    "                                          target_size=(img_height,img_width),\n",
    "                                          batch_size = batch_size,\n",
    "                                          class_mode = 'binary')\n",
    "                                         \n",
    "test_dataset = test.flow_from_directory(\"C:/Users/nabin/Desktop/DAB300/Train-Image/test/\",\n",
    "                                          target_size=(img_height,img_width),\n",
    "                                          batch_size =batch_size,\n",
    "                                          class_mode = 'binary')\n",
    "                                         \n",
    "val_dataset = test.flow_from_directory(\"C:/Users/nabin/Desktop/DAB300/Train-Image/val/\",\n",
    "                                          target_size=(img_height,img_width),\n",
    "                                          batch_size =batch_size,\n",
    "                                          class_mode = 'binary')"
   ]
  },
  {
   "cell_type": "code",
   "execution_count": 47,
   "id": "b1692f3f",
   "metadata": {},
   "outputs": [],
   "source": [
    "import tensorflow as tf\n",
    "preprocess_input = tf.keras.applications.mobilenet_v2.preprocess_input\n"
   ]
  },
  {
   "cell_type": "code",
   "execution_count": 48,
   "id": "924816ae",
   "metadata": {},
   "outputs": [],
   "source": [
    "# Create the base model from the pre-trained model in part 3\n",
    "IMG_SIZE = (224,224)\n",
    "IMG_SHAPE = IMG_SIZE + (3,)\n",
    "base_model = model_frm3"
   ]
  },
  {
   "cell_type": "code",
   "execution_count": 52,
   "id": "6ad7392e",
   "metadata": {},
   "outputs": [
    {
     "name": "stdout",
     "output_type": "stream",
     "text": [
      "(32, 7, 7, 1280)\n"
     ]
    }
   ],
   "source": [
    "image_batch, label_batch = next(iter(train_dataset))\n",
    "feature_batch = base_model(image_batch)\n",
    "print(feature_batch.shape)"
   ]
  },
  {
   "cell_type": "code",
   "execution_count": 50,
   "id": "3924d055",
   "metadata": {},
   "outputs": [],
   "source": [
    "base_model.trainable = False"
   ]
  },
  {
   "cell_type": "code",
   "execution_count": 15,
   "id": "f16c515e",
   "metadata": {},
   "outputs": [
    {
     "name": "stdout",
     "output_type": "stream",
     "text": [
      "Model: \"mobilenetv2_1.00_224\"\n",
      "__________________________________________________________________________________________________\n",
      "Layer (type)                    Output Shape         Param #     Connected to                     \n",
      "==================================================================================================\n",
      "input_2 (InputLayer)            [(None, 224, 224, 3) 0                                            \n",
      "__________________________________________________________________________________________________\n",
      "Conv1_pad (ZeroPadding2D)       (None, 225, 225, 3)  0           input_2[0][0]                    \n",
      "__________________________________________________________________________________________________\n",
      "Conv1 (Conv2D)                  (None, 112, 112, 32) 864         Conv1_pad[0][0]                  \n",
      "__________________________________________________________________________________________________\n",
      "bn_Conv1 (BatchNormalization)   (None, 112, 112, 32) 128         Conv1[0][0]                      \n",
      "__________________________________________________________________________________________________\n",
      "Conv1_relu (ReLU)               (None, 112, 112, 32) 0           bn_Conv1[0][0]                   \n",
      "__________________________________________________________________________________________________\n",
      "expanded_conv_depthwise (Depthw (None, 112, 112, 32) 288         Conv1_relu[0][0]                 \n",
      "__________________________________________________________________________________________________\n",
      "expanded_conv_depthwise_BN (Bat (None, 112, 112, 32) 128         expanded_conv_depthwise[0][0]    \n",
      "__________________________________________________________________________________________________\n",
      "expanded_conv_depthwise_relu (R (None, 112, 112, 32) 0           expanded_conv_depthwise_BN[0][0] \n",
      "__________________________________________________________________________________________________\n",
      "expanded_conv_project (Conv2D)  (None, 112, 112, 16) 512         expanded_conv_depthwise_relu[0][0\n",
      "__________________________________________________________________________________________________\n",
      "expanded_conv_project_BN (Batch (None, 112, 112, 16) 64          expanded_conv_project[0][0]      \n",
      "__________________________________________________________________________________________________\n",
      "block_1_expand (Conv2D)         (None, 112, 112, 96) 1536        expanded_conv_project_BN[0][0]   \n",
      "__________________________________________________________________________________________________\n",
      "block_1_expand_BN (BatchNormali (None, 112, 112, 96) 384         block_1_expand[0][0]             \n",
      "__________________________________________________________________________________________________\n",
      "block_1_expand_relu (ReLU)      (None, 112, 112, 96) 0           block_1_expand_BN[0][0]          \n",
      "__________________________________________________________________________________________________\n",
      "block_1_pad (ZeroPadding2D)     (None, 113, 113, 96) 0           block_1_expand_relu[0][0]        \n",
      "__________________________________________________________________________________________________\n",
      "block_1_depthwise (DepthwiseCon (None, 56, 56, 96)   864         block_1_pad[0][0]                \n",
      "__________________________________________________________________________________________________\n",
      "block_1_depthwise_BN (BatchNorm (None, 56, 56, 96)   384         block_1_depthwise[0][0]          \n",
      "__________________________________________________________________________________________________\n",
      "block_1_depthwise_relu (ReLU)   (None, 56, 56, 96)   0           block_1_depthwise_BN[0][0]       \n",
      "__________________________________________________________________________________________________\n",
      "block_1_project (Conv2D)        (None, 56, 56, 24)   2304        block_1_depthwise_relu[0][0]     \n",
      "__________________________________________________________________________________________________\n",
      "block_1_project_BN (BatchNormal (None, 56, 56, 24)   96          block_1_project[0][0]            \n",
      "__________________________________________________________________________________________________\n",
      "block_2_expand (Conv2D)         (None, 56, 56, 144)  3456        block_1_project_BN[0][0]         \n",
      "__________________________________________________________________________________________________\n",
      "block_2_expand_BN (BatchNormali (None, 56, 56, 144)  576         block_2_expand[0][0]             \n",
      "__________________________________________________________________________________________________\n",
      "block_2_expand_relu (ReLU)      (None, 56, 56, 144)  0           block_2_expand_BN[0][0]          \n",
      "__________________________________________________________________________________________________\n",
      "block_2_depthwise (DepthwiseCon (None, 56, 56, 144)  1296        block_2_expand_relu[0][0]        \n",
      "__________________________________________________________________________________________________\n",
      "block_2_depthwise_BN (BatchNorm (None, 56, 56, 144)  576         block_2_depthwise[0][0]          \n",
      "__________________________________________________________________________________________________\n",
      "block_2_depthwise_relu (ReLU)   (None, 56, 56, 144)  0           block_2_depthwise_BN[0][0]       \n",
      "__________________________________________________________________________________________________\n",
      "block_2_project (Conv2D)        (None, 56, 56, 24)   3456        block_2_depthwise_relu[0][0]     \n",
      "__________________________________________________________________________________________________\n",
      "block_2_project_BN (BatchNormal (None, 56, 56, 24)   96          block_2_project[0][0]            \n",
      "__________________________________________________________________________________________________\n",
      "block_2_add (Add)               (None, 56, 56, 24)   0           block_1_project_BN[0][0]         \n",
      "                                                                 block_2_project_BN[0][0]         \n",
      "__________________________________________________________________________________________________\n",
      "block_3_expand (Conv2D)         (None, 56, 56, 144)  3456        block_2_add[0][0]                \n",
      "__________________________________________________________________________________________________\n",
      "block_3_expand_BN (BatchNormali (None, 56, 56, 144)  576         block_3_expand[0][0]             \n",
      "__________________________________________________________________________________________________\n",
      "block_3_expand_relu (ReLU)      (None, 56, 56, 144)  0           block_3_expand_BN[0][0]          \n",
      "__________________________________________________________________________________________________\n",
      "block_3_pad (ZeroPadding2D)     (None, 57, 57, 144)  0           block_3_expand_relu[0][0]        \n",
      "__________________________________________________________________________________________________\n",
      "block_3_depthwise (DepthwiseCon (None, 28, 28, 144)  1296        block_3_pad[0][0]                \n",
      "__________________________________________________________________________________________________\n",
      "block_3_depthwise_BN (BatchNorm (None, 28, 28, 144)  576         block_3_depthwise[0][0]          \n",
      "__________________________________________________________________________________________________\n",
      "block_3_depthwise_relu (ReLU)   (None, 28, 28, 144)  0           block_3_depthwise_BN[0][0]       \n",
      "__________________________________________________________________________________________________\n",
      "block_3_project (Conv2D)        (None, 28, 28, 32)   4608        block_3_depthwise_relu[0][0]     \n",
      "__________________________________________________________________________________________________\n",
      "block_3_project_BN (BatchNormal (None, 28, 28, 32)   128         block_3_project[0][0]            \n",
      "__________________________________________________________________________________________________\n",
      "block_4_expand (Conv2D)         (None, 28, 28, 192)  6144        block_3_project_BN[0][0]         \n",
      "__________________________________________________________________________________________________\n",
      "block_4_expand_BN (BatchNormali (None, 28, 28, 192)  768         block_4_expand[0][0]             \n",
      "__________________________________________________________________________________________________\n",
      "block_4_expand_relu (ReLU)      (None, 28, 28, 192)  0           block_4_expand_BN[0][0]          \n",
      "__________________________________________________________________________________________________\n",
      "block_4_depthwise (DepthwiseCon (None, 28, 28, 192)  1728        block_4_expand_relu[0][0]        \n",
      "__________________________________________________________________________________________________\n",
      "block_4_depthwise_BN (BatchNorm (None, 28, 28, 192)  768         block_4_depthwise[0][0]          \n",
      "__________________________________________________________________________________________________\n",
      "block_4_depthwise_relu (ReLU)   (None, 28, 28, 192)  0           block_4_depthwise_BN[0][0]       \n",
      "__________________________________________________________________________________________________\n",
      "block_4_project (Conv2D)        (None, 28, 28, 32)   6144        block_4_depthwise_relu[0][0]     \n",
      "__________________________________________________________________________________________________\n",
      "block_4_project_BN (BatchNormal (None, 28, 28, 32)   128         block_4_project[0][0]            \n",
      "__________________________________________________________________________________________________\n",
      "block_4_add (Add)               (None, 28, 28, 32)   0           block_3_project_BN[0][0]         \n",
      "                                                                 block_4_project_BN[0][0]         \n",
      "__________________________________________________________________________________________________\n",
      "block_5_expand (Conv2D)         (None, 28, 28, 192)  6144        block_4_add[0][0]                \n",
      "__________________________________________________________________________________________________\n",
      "block_5_expand_BN (BatchNormali (None, 28, 28, 192)  768         block_5_expand[0][0]             \n",
      "__________________________________________________________________________________________________\n",
      "block_5_expand_relu (ReLU)      (None, 28, 28, 192)  0           block_5_expand_BN[0][0]          \n",
      "__________________________________________________________________________________________________\n",
      "block_5_depthwise (DepthwiseCon (None, 28, 28, 192)  1728        block_5_expand_relu[0][0]        \n",
      "__________________________________________________________________________________________________\n",
      "block_5_depthwise_BN (BatchNorm (None, 28, 28, 192)  768         block_5_depthwise[0][0]          \n",
      "__________________________________________________________________________________________________\n",
      "block_5_depthwise_relu (ReLU)   (None, 28, 28, 192)  0           block_5_depthwise_BN[0][0]       \n",
      "__________________________________________________________________________________________________\n",
      "block_5_project (Conv2D)        (None, 28, 28, 32)   6144        block_5_depthwise_relu[0][0]     \n",
      "__________________________________________________________________________________________________\n",
      "block_5_project_BN (BatchNormal (None, 28, 28, 32)   128         block_5_project[0][0]            \n",
      "__________________________________________________________________________________________________\n",
      "block_5_add (Add)               (None, 28, 28, 32)   0           block_4_add[0][0]                \n",
      "                                                                 block_5_project_BN[0][0]         \n",
      "__________________________________________________________________________________________________\n",
      "block_6_expand (Conv2D)         (None, 28, 28, 192)  6144        block_5_add[0][0]                \n",
      "__________________________________________________________________________________________________\n",
      "block_6_expand_BN (BatchNormali (None, 28, 28, 192)  768         block_6_expand[0][0]             \n",
      "__________________________________________________________________________________________________\n",
      "block_6_expand_relu (ReLU)      (None, 28, 28, 192)  0           block_6_expand_BN[0][0]          \n",
      "__________________________________________________________________________________________________\n",
      "block_6_pad (ZeroPadding2D)     (None, 29, 29, 192)  0           block_6_expand_relu[0][0]        \n",
      "__________________________________________________________________________________________________\n",
      "block_6_depthwise (DepthwiseCon (None, 14, 14, 192)  1728        block_6_pad[0][0]                \n",
      "__________________________________________________________________________________________________\n",
      "block_6_depthwise_BN (BatchNorm (None, 14, 14, 192)  768         block_6_depthwise[0][0]          \n",
      "__________________________________________________________________________________________________\n",
      "block_6_depthwise_relu (ReLU)   (None, 14, 14, 192)  0           block_6_depthwise_BN[0][0]       \n",
      "__________________________________________________________________________________________________\n",
      "block_6_project (Conv2D)        (None, 14, 14, 64)   12288       block_6_depthwise_relu[0][0]     \n",
      "__________________________________________________________________________________________________\n",
      "block_6_project_BN (BatchNormal (None, 14, 14, 64)   256         block_6_project[0][0]            \n",
      "__________________________________________________________________________________________________\n",
      "block_7_expand (Conv2D)         (None, 14, 14, 384)  24576       block_6_project_BN[0][0]         \n",
      "__________________________________________________________________________________________________\n",
      "block_7_expand_BN (BatchNormali (None, 14, 14, 384)  1536        block_7_expand[0][0]             \n",
      "__________________________________________________________________________________________________\n",
      "block_7_expand_relu (ReLU)      (None, 14, 14, 384)  0           block_7_expand_BN[0][0]          \n",
      "__________________________________________________________________________________________________\n",
      "block_7_depthwise (DepthwiseCon (None, 14, 14, 384)  3456        block_7_expand_relu[0][0]        \n",
      "__________________________________________________________________________________________________\n",
      "block_7_depthwise_BN (BatchNorm (None, 14, 14, 384)  1536        block_7_depthwise[0][0]          \n",
      "__________________________________________________________________________________________________\n",
      "block_7_depthwise_relu (ReLU)   (None, 14, 14, 384)  0           block_7_depthwise_BN[0][0]       \n",
      "__________________________________________________________________________________________________\n",
      "block_7_project (Conv2D)        (None, 14, 14, 64)   24576       block_7_depthwise_relu[0][0]     \n",
      "__________________________________________________________________________________________________\n",
      "block_7_project_BN (BatchNormal (None, 14, 14, 64)   256         block_7_project[0][0]            \n",
      "__________________________________________________________________________________________________\n",
      "block_7_add (Add)               (None, 14, 14, 64)   0           block_6_project_BN[0][0]         \n",
      "                                                                 block_7_project_BN[0][0]         \n",
      "__________________________________________________________________________________________________\n",
      "block_8_expand (Conv2D)         (None, 14, 14, 384)  24576       block_7_add[0][0]                \n",
      "__________________________________________________________________________________________________\n",
      "block_8_expand_BN (BatchNormali (None, 14, 14, 384)  1536        block_8_expand[0][0]             \n",
      "__________________________________________________________________________________________________\n",
      "block_8_expand_relu (ReLU)      (None, 14, 14, 384)  0           block_8_expand_BN[0][0]          \n",
      "__________________________________________________________________________________________________\n",
      "block_8_depthwise (DepthwiseCon (None, 14, 14, 384)  3456        block_8_expand_relu[0][0]        \n",
      "__________________________________________________________________________________________________\n",
      "block_8_depthwise_BN (BatchNorm (None, 14, 14, 384)  1536        block_8_depthwise[0][0]          \n",
      "__________________________________________________________________________________________________\n",
      "block_8_depthwise_relu (ReLU)   (None, 14, 14, 384)  0           block_8_depthwise_BN[0][0]       \n",
      "__________________________________________________________________________________________________\n",
      "block_8_project (Conv2D)        (None, 14, 14, 64)   24576       block_8_depthwise_relu[0][0]     \n",
      "__________________________________________________________________________________________________\n",
      "block_8_project_BN (BatchNormal (None, 14, 14, 64)   256         block_8_project[0][0]            \n",
      "__________________________________________________________________________________________________\n",
      "block_8_add (Add)               (None, 14, 14, 64)   0           block_7_add[0][0]                \n",
      "                                                                 block_8_project_BN[0][0]         \n",
      "__________________________________________________________________________________________________\n",
      "block_9_expand (Conv2D)         (None, 14, 14, 384)  24576       block_8_add[0][0]                \n",
      "__________________________________________________________________________________________________\n",
      "block_9_expand_BN (BatchNormali (None, 14, 14, 384)  1536        block_9_expand[0][0]             \n",
      "__________________________________________________________________________________________________\n",
      "block_9_expand_relu (ReLU)      (None, 14, 14, 384)  0           block_9_expand_BN[0][0]          \n",
      "__________________________________________________________________________________________________\n",
      "block_9_depthwise (DepthwiseCon (None, 14, 14, 384)  3456        block_9_expand_relu[0][0]        \n",
      "__________________________________________________________________________________________________\n",
      "block_9_depthwise_BN (BatchNorm (None, 14, 14, 384)  1536        block_9_depthwise[0][0]          \n",
      "__________________________________________________________________________________________________\n",
      "block_9_depthwise_relu (ReLU)   (None, 14, 14, 384)  0           block_9_depthwise_BN[0][0]       \n",
      "__________________________________________________________________________________________________\n",
      "block_9_project (Conv2D)        (None, 14, 14, 64)   24576       block_9_depthwise_relu[0][0]     \n",
      "__________________________________________________________________________________________________\n",
      "block_9_project_BN (BatchNormal (None, 14, 14, 64)   256         block_9_project[0][0]            \n",
      "__________________________________________________________________________________________________\n",
      "block_9_add (Add)               (None, 14, 14, 64)   0           block_8_add[0][0]                \n",
      "                                                                 block_9_project_BN[0][0]         \n",
      "__________________________________________________________________________________________________\n",
      "block_10_expand (Conv2D)        (None, 14, 14, 384)  24576       block_9_add[0][0]                \n",
      "__________________________________________________________________________________________________\n",
      "block_10_expand_BN (BatchNormal (None, 14, 14, 384)  1536        block_10_expand[0][0]            \n",
      "__________________________________________________________________________________________________\n",
      "block_10_expand_relu (ReLU)     (None, 14, 14, 384)  0           block_10_expand_BN[0][0]         \n",
      "__________________________________________________________________________________________________\n",
      "block_10_depthwise (DepthwiseCo (None, 14, 14, 384)  3456        block_10_expand_relu[0][0]       \n",
      "__________________________________________________________________________________________________\n",
      "block_10_depthwise_BN (BatchNor (None, 14, 14, 384)  1536        block_10_depthwise[0][0]         \n",
      "__________________________________________________________________________________________________\n",
      "block_10_depthwise_relu (ReLU)  (None, 14, 14, 384)  0           block_10_depthwise_BN[0][0]      \n",
      "__________________________________________________________________________________________________\n",
      "block_10_project (Conv2D)       (None, 14, 14, 96)   36864       block_10_depthwise_relu[0][0]    \n",
      "__________________________________________________________________________________________________\n",
      "block_10_project_BN (BatchNorma (None, 14, 14, 96)   384         block_10_project[0][0]           \n",
      "__________________________________________________________________________________________________\n",
      "block_11_expand (Conv2D)        (None, 14, 14, 576)  55296       block_10_project_BN[0][0]        \n",
      "__________________________________________________________________________________________________\n",
      "block_11_expand_BN (BatchNormal (None, 14, 14, 576)  2304        block_11_expand[0][0]            \n",
      "__________________________________________________________________________________________________\n",
      "block_11_expand_relu (ReLU)     (None, 14, 14, 576)  0           block_11_expand_BN[0][0]         \n",
      "__________________________________________________________________________________________________\n",
      "block_11_depthwise (DepthwiseCo (None, 14, 14, 576)  5184        block_11_expand_relu[0][0]       \n",
      "__________________________________________________________________________________________________\n",
      "block_11_depthwise_BN (BatchNor (None, 14, 14, 576)  2304        block_11_depthwise[0][0]         \n",
      "__________________________________________________________________________________________________\n",
      "block_11_depthwise_relu (ReLU)  (None, 14, 14, 576)  0           block_11_depthwise_BN[0][0]      \n",
      "__________________________________________________________________________________________________\n",
      "block_11_project (Conv2D)       (None, 14, 14, 96)   55296       block_11_depthwise_relu[0][0]    \n",
      "__________________________________________________________________________________________________\n",
      "block_11_project_BN (BatchNorma (None, 14, 14, 96)   384         block_11_project[0][0]           \n",
      "__________________________________________________________________________________________________\n",
      "block_11_add (Add)              (None, 14, 14, 96)   0           block_10_project_BN[0][0]        \n",
      "                                                                 block_11_project_BN[0][0]        \n",
      "__________________________________________________________________________________________________\n",
      "block_12_expand (Conv2D)        (None, 14, 14, 576)  55296       block_11_add[0][0]               \n",
      "__________________________________________________________________________________________________\n",
      "block_12_expand_BN (BatchNormal (None, 14, 14, 576)  2304        block_12_expand[0][0]            \n",
      "__________________________________________________________________________________________________\n",
      "block_12_expand_relu (ReLU)     (None, 14, 14, 576)  0           block_12_expand_BN[0][0]         \n",
      "__________________________________________________________________________________________________\n",
      "block_12_depthwise (DepthwiseCo (None, 14, 14, 576)  5184        block_12_expand_relu[0][0]       \n",
      "__________________________________________________________________________________________________\n",
      "block_12_depthwise_BN (BatchNor (None, 14, 14, 576)  2304        block_12_depthwise[0][0]         \n",
      "__________________________________________________________________________________________________\n",
      "block_12_depthwise_relu (ReLU)  (None, 14, 14, 576)  0           block_12_depthwise_BN[0][0]      \n",
      "__________________________________________________________________________________________________\n",
      "block_12_project (Conv2D)       (None, 14, 14, 96)   55296       block_12_depthwise_relu[0][0]    \n",
      "__________________________________________________________________________________________________\n",
      "block_12_project_BN (BatchNorma (None, 14, 14, 96)   384         block_12_project[0][0]           \n",
      "__________________________________________________________________________________________________\n",
      "block_12_add (Add)              (None, 14, 14, 96)   0           block_11_add[0][0]               \n",
      "                                                                 block_12_project_BN[0][0]        \n",
      "__________________________________________________________________________________________________\n",
      "block_13_expand (Conv2D)        (None, 14, 14, 576)  55296       block_12_add[0][0]               \n",
      "__________________________________________________________________________________________________\n",
      "block_13_expand_BN (BatchNormal (None, 14, 14, 576)  2304        block_13_expand[0][0]            \n",
      "__________________________________________________________________________________________________\n",
      "block_13_expand_relu (ReLU)     (None, 14, 14, 576)  0           block_13_expand_BN[0][0]         \n",
      "__________________________________________________________________________________________________\n",
      "block_13_pad (ZeroPadding2D)    (None, 15, 15, 576)  0           block_13_expand_relu[0][0]       \n",
      "__________________________________________________________________________________________________\n",
      "block_13_depthwise (DepthwiseCo (None, 7, 7, 576)    5184        block_13_pad[0][0]               \n",
      "__________________________________________________________________________________________________\n",
      "block_13_depthwise_BN (BatchNor (None, 7, 7, 576)    2304        block_13_depthwise[0][0]         \n",
      "__________________________________________________________________________________________________\n",
      "block_13_depthwise_relu (ReLU)  (None, 7, 7, 576)    0           block_13_depthwise_BN[0][0]      \n",
      "__________________________________________________________________________________________________\n",
      "block_13_project (Conv2D)       (None, 7, 7, 160)    92160       block_13_depthwise_relu[0][0]    \n",
      "__________________________________________________________________________________________________\n",
      "block_13_project_BN (BatchNorma (None, 7, 7, 160)    640         block_13_project[0][0]           \n",
      "__________________________________________________________________________________________________\n",
      "block_14_expand (Conv2D)        (None, 7, 7, 960)    153600      block_13_project_BN[0][0]        \n",
      "__________________________________________________________________________________________________\n",
      "block_14_expand_BN (BatchNormal (None, 7, 7, 960)    3840        block_14_expand[0][0]            \n",
      "__________________________________________________________________________________________________\n",
      "block_14_expand_relu (ReLU)     (None, 7, 7, 960)    0           block_14_expand_BN[0][0]         \n",
      "__________________________________________________________________________________________________\n",
      "block_14_depthwise (DepthwiseCo (None, 7, 7, 960)    8640        block_14_expand_relu[0][0]       \n",
      "__________________________________________________________________________________________________\n",
      "block_14_depthwise_BN (BatchNor (None, 7, 7, 960)    3840        block_14_depthwise[0][0]         \n",
      "__________________________________________________________________________________________________\n",
      "block_14_depthwise_relu (ReLU)  (None, 7, 7, 960)    0           block_14_depthwise_BN[0][0]      \n",
      "__________________________________________________________________________________________________\n",
      "block_14_project (Conv2D)       (None, 7, 7, 160)    153600      block_14_depthwise_relu[0][0]    \n",
      "__________________________________________________________________________________________________\n",
      "block_14_project_BN (BatchNorma (None, 7, 7, 160)    640         block_14_project[0][0]           \n",
      "__________________________________________________________________________________________________\n",
      "block_14_add (Add)              (None, 7, 7, 160)    0           block_13_project_BN[0][0]        \n",
      "                                                                 block_14_project_BN[0][0]        \n",
      "__________________________________________________________________________________________________\n",
      "block_15_expand (Conv2D)        (None, 7, 7, 960)    153600      block_14_add[0][0]               \n",
      "__________________________________________________________________________________________________\n",
      "block_15_expand_BN (BatchNormal (None, 7, 7, 960)    3840        block_15_expand[0][0]            \n",
      "__________________________________________________________________________________________________\n",
      "block_15_expand_relu (ReLU)     (None, 7, 7, 960)    0           block_15_expand_BN[0][0]         \n",
      "__________________________________________________________________________________________________\n",
      "block_15_depthwise (DepthwiseCo (None, 7, 7, 960)    8640        block_15_expand_relu[0][0]       \n",
      "__________________________________________________________________________________________________\n",
      "block_15_depthwise_BN (BatchNor (None, 7, 7, 960)    3840        block_15_depthwise[0][0]         \n",
      "__________________________________________________________________________________________________\n",
      "block_15_depthwise_relu (ReLU)  (None, 7, 7, 960)    0           block_15_depthwise_BN[0][0]      \n",
      "__________________________________________________________________________________________________\n",
      "block_15_project (Conv2D)       (None, 7, 7, 160)    153600      block_15_depthwise_relu[0][0]    \n",
      "__________________________________________________________________________________________________\n",
      "block_15_project_BN (BatchNorma (None, 7, 7, 160)    640         block_15_project[0][0]           \n",
      "__________________________________________________________________________________________________\n",
      "block_15_add (Add)              (None, 7, 7, 160)    0           block_14_add[0][0]               \n",
      "                                                                 block_15_project_BN[0][0]        \n",
      "__________________________________________________________________________________________________\n",
      "block_16_expand (Conv2D)        (None, 7, 7, 960)    153600      block_15_add[0][0]               \n",
      "__________________________________________________________________________________________________\n",
      "block_16_expand_BN (BatchNormal (None, 7, 7, 960)    3840        block_16_expand[0][0]            \n",
      "__________________________________________________________________________________________________\n",
      "block_16_expand_relu (ReLU)     (None, 7, 7, 960)    0           block_16_expand_BN[0][0]         \n",
      "__________________________________________________________________________________________________\n",
      "block_16_depthwise (DepthwiseCo (None, 7, 7, 960)    8640        block_16_expand_relu[0][0]       \n",
      "__________________________________________________________________________________________________\n",
      "block_16_depthwise_BN (BatchNor (None, 7, 7, 960)    3840        block_16_depthwise[0][0]         \n",
      "__________________________________________________________________________________________________\n",
      "block_16_depthwise_relu (ReLU)  (None, 7, 7, 960)    0           block_16_depthwise_BN[0][0]      \n",
      "__________________________________________________________________________________________________\n",
      "block_16_project (Conv2D)       (None, 7, 7, 320)    307200      block_16_depthwise_relu[0][0]    \n",
      "__________________________________________________________________________________________________\n",
      "block_16_project_BN (BatchNorma (None, 7, 7, 320)    1280        block_16_project[0][0]           \n",
      "__________________________________________________________________________________________________\n",
      "Conv_1 (Conv2D)                 (None, 7, 7, 1280)   409600      block_16_project_BN[0][0]        \n",
      "__________________________________________________________________________________________________\n",
      "Conv_1_bn (BatchNormalization)  (None, 7, 7, 1280)   5120        Conv_1[0][0]                     \n",
      "__________________________________________________________________________________________________\n",
      "out_relu (ReLU)                 (None, 7, 7, 1280)   0           Conv_1_bn[0][0]                  \n",
      "==================================================================================================\n",
      "Total params: 2,257,984\n",
      "Trainable params: 2,223,872\n",
      "Non-trainable params: 34,112\n",
      "__________________________________________________________________________________________________\n"
     ]
    }
   ],
   "source": [
    "# Let's take a look at the base model architecture\n",
    "base_model.summary()"
   ]
  },
  {
   "cell_type": "code",
   "execution_count": 53,
   "id": "ad93ca4c",
   "metadata": {},
   "outputs": [
    {
     "name": "stdout",
     "output_type": "stream",
     "text": [
      "(32, 1280)\n"
     ]
    }
   ],
   "source": [
    "global_average_layer = tf.keras.layers.GlobalAveragePooling2D()\n",
    "feature_batch_average = global_average_layer(feature_batch)\n",
    "print(feature_batch_average.shape)"
   ]
  },
  {
   "cell_type": "code",
   "execution_count": 54,
   "id": "bd96c7ad",
   "metadata": {},
   "outputs": [
    {
     "name": "stdout",
     "output_type": "stream",
     "text": [
      "(32, 1)\n"
     ]
    }
   ],
   "source": [
    "prediction_layer = tf.keras.layers.Dense(1)\n",
    "prediction_batch = prediction_layer(feature_batch_average)\n",
    "print(prediction_batch.shape)"
   ]
  },
  {
   "cell_type": "code",
   "execution_count": 55,
   "id": "ae33a028",
   "metadata": {},
   "outputs": [],
   "source": [
    "inputs = tf.keras.Input(shape=(224, 224, 3))\n",
    "x = preprocess_input(inputs)\n",
    "x = base_model(x, training=False)\n",
    "x = global_average_layer(x)\n",
    "x = tf.keras.layers.Dropout(0.2)(x)\n",
    "outputs = prediction_layer(x)\n",
    "model_frm3 = tf.keras.Model(inputs, outputs)\n"
   ]
  },
  {
   "cell_type": "code",
   "execution_count": 56,
   "id": "451be047",
   "metadata": {},
   "outputs": [],
   "source": [
    "\n",
    "base_learning_rate = 0.0001\n",
    "model_frm3.compile(optimizer=tf.keras.optimizers.Adam(learning_rate=base_learning_rate),\n",
    "              loss=tf.keras.losses.BinaryCrossentropy(from_logits=True),\n",
    "              metrics=['accuracy'])"
   ]
  },
  {
   "cell_type": "code",
   "execution_count": 86,
   "id": "09ab6129",
   "metadata": {},
   "outputs": [
    {
     "name": "stdout",
     "output_type": "stream",
     "text": [
      "Model: \"functional_21\"\n",
      "_________________________________________________________________\n",
      "Layer (type)                 Output Shape              Param #   \n",
      "=================================================================\n",
      "input_14 (InputLayer)        [(None, 224, 224, 3)]     0         \n",
      "_________________________________________________________________\n",
      "tf_op_layer_RealDiv_10 (Tens [(None, 224, 224, 3)]     0         \n",
      "_________________________________________________________________\n",
      "tf_op_layer_Sub_10 (TensorFl [(None, 224, 224, 3)]     0         \n",
      "_________________________________________________________________\n",
      "mobilenetv2_1.00_224 (Functi (None, 7, 7, 1280)        2257984   \n",
      "_________________________________________________________________\n",
      "global_average_pooling2d_1 ( (None, 1280)              0         \n",
      "_________________________________________________________________\n",
      "dropout_9 (Dropout)          (None, 1280)              0         \n",
      "_________________________________________________________________\n",
      "dense_2 (Dense)              (None, 1)                 1281      \n",
      "=================================================================\n",
      "Total params: 2,259,265\n",
      "Trainable params: 1,863,873\n",
      "Non-trainable params: 395,392\n",
      "_________________________________________________________________\n"
     ]
    }
   ],
   "source": [
    "model_frm3.summary()"
   ]
  },
  {
   "cell_type": "code",
   "execution_count": 57,
   "id": "0e6cbded",
   "metadata": {
    "scrolled": true
   },
   "outputs": [
    {
     "data": {
      "text/plain": [
       "2"
      ]
     },
     "execution_count": 57,
     "metadata": {},
     "output_type": "execute_result"
    }
   ],
   "source": [
    "len(model_frm3.trainable_variables)"
   ]
  },
  {
   "cell_type": "code",
   "execution_count": 60,
   "id": "ee58e446",
   "metadata": {},
   "outputs": [
    {
     "name": "stdout",
     "output_type": "stream",
     "text": [
      "Number of layers in the base model:  155\n"
     ]
    }
   ],
   "source": [
    "base_model.trainable = True\n",
    "# Let's take a look to see how many layers are in the base model\n",
    "print(\"Number of layers in the base model: \", len(base_model.layers))\n",
    "\n",
    "# Fine-tune from this layer onwards\n",
    "fine_tune_at = 100\n",
    "\n",
    "# Freeze all the layers before the `fine_tune_at` layer\n",
    "for layer in base_model.layers[:fine_tune_at]:\n",
    "  layer.trainable =  False"
   ]
  },
  {
   "cell_type": "code",
   "execution_count": 139,
   "id": "4dd9d49b",
   "metadata": {},
   "outputs": [],
   "source": [
    "model_frm3.compile(loss=tf.keras.losses.BinaryCrossentropy(from_logits=True),\n",
    "              optimizer = tf.keras.optimizers.RMSprop(lr=base_learning_rate),\n",
    "              metrics=['accuracy'])"
   ]
  },
  {
   "cell_type": "code",
   "execution_count": 152,
   "id": "8b6c6cbf",
   "metadata": {},
   "outputs": [
    {
     "name": "stdout",
     "output_type": "stream",
     "text": [
      "Epoch 1/10\n",
      "4/4 [==============================] - 6s 1s/step - loss: 0.1703 - accuracy: 0.9901 - val_loss: 3.3521 - val_accuracy: 0.6774\n",
      "Epoch 2/10\n",
      "4/4 [==============================] - 5s 1s/step - loss: 0.0098 - accuracy: 0.9901 - val_loss: 3.2807 - val_accuracy: 0.7742\n",
      "Epoch 3/10\n",
      "4/4 [==============================] - 5s 1s/step - loss: 0.0107 - accuracy: 0.9901 - val_loss: 3.6150 - val_accuracy: 0.7419\n",
      "Epoch 4/10\n",
      "4/4 [==============================] - 5s 1s/step - loss: 0.1711 - accuracy: 0.9703 - val_loss: 3.0444 - val_accuracy: 0.8065\n",
      "Epoch 5/10\n",
      "4/4 [==============================] - 5s 1s/step - loss: 1.2393e-07 - accuracy: 1.0000 - val_loss: 3.4871 - val_accuracy: 0.6452\n",
      "Epoch 6/10\n",
      "4/4 [==============================] - 5s 1s/step - loss: 0.0753 - accuracy: 0.9901 - val_loss: 3.2194 - val_accuracy: 0.7097\n",
      "Epoch 7/10\n",
      "4/4 [==============================] - 5s 1s/step - loss: 4.7484e-06 - accuracy: 1.0000 - val_loss: 3.0388 - val_accuracy: 0.7742\n",
      "Epoch 8/10\n",
      "4/4 [==============================] - 5s 1s/step - loss: 5.0752e-08 - accuracy: 1.0000 - val_loss: 3.0416 - val_accuracy: 0.7742\n",
      "Epoch 9/10\n",
      "4/4 [==============================] - 6s 2s/step - loss: 0.0337 - accuracy: 0.9901 - val_loss: 3.3442 - val_accuracy: 0.7742\n",
      "Epoch 10/10\n",
      "4/4 [==============================] - 5s 1s/step - loss: 1.3610e-05 - accuracy: 1.0000 - val_loss: 3.7464 - val_accuracy: 0.7742\n"
     ]
    }
   ],
   "source": [
    "r = model_frm3.fit_generator(\n",
    "  training_set,\n",
    "  validation_data=test_set,\n",
    "  epochs=10,\n",
    "  steps_per_epoch=len(training_set),\n",
    "  validation_steps=len(test_set)\n",
    ")\n"
   ]
  },
  {
   "cell_type": "code",
   "execution_count": 155,
   "id": "e1fbfec3",
   "metadata": {},
   "outputs": [
    {
     "name": "stdout",
     "output_type": "stream",
     "text": [
      "1/1 [==============================] - 0s 1ms/step - loss: 3.7464 - accuracy: 0.7742\n",
      "Test score: 3.7464439868927\n",
      "Test accuracy: 0.774193525314331\n"
     ]
    }
   ],
   "source": [
    "score_aug, acc_aug = model_frm3.evaluate(test_set,\n",
    "                            batch_size=batch_size)\n",
    "\n",
    "print('Test score:', score_aug)\n",
    "print('Test accuracy:', acc_aug)"
   ]
  },
  {
   "cell_type": "markdown",
   "id": "cc8c9a17",
   "metadata": {},
   "source": [
    "#### After fine-tuning,  the test accuracy of the model is almost 78% which is greater than the tesst accuracy from part 3.  Hence, we can conclude that the transfer learning and fine tune is the best model to implement in our dataset, even if we have small number of data, we could get pretty good accuracy."
   ]
  }
 ],
 "metadata": {
  "kernelspec": {
   "display_name": "Python 3 (ipykernel)",
   "language": "python",
   "name": "python3"
  },
  "language_info": {
   "codemirror_mode": {
    "name": "ipython",
    "version": 3
   },
   "file_extension": ".py",
   "mimetype": "text/x-python",
   "name": "python",
   "nbconvert_exporter": "python",
   "pygments_lexer": "ipython3",
   "version": "3.8.11"
  }
 },
 "nbformat": 4,
 "nbformat_minor": 5
}
